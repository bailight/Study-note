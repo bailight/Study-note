{
 "cells": [
  {
   "cell_type": "markdown",
   "id": "5632851a",
   "metadata": {},
   "source": [
    "# **СИИ lab2**"
   ]
  },
  {
   "cell_type": "markdown",
   "id": "1ae5f9f2",
   "metadata": {},
   "source": [
    "ФИО: Чэнь Жохань\n",
    "\n",
    "ИСУ: 413107"
   ]
  },
  {
   "cell_type": "markdown",
   "id": "5eaac751",
   "metadata": {},
   "source": [
    "### 0. import library"
   ]
  },
  {
   "cell_type": "code",
   "execution_count": null,
   "id": "7d42c64d",
   "metadata": {},
   "outputs": [],
   "source": [
    "import pandas as pd\n",
    "import numpy as np\n",
    "import matplotlib.pyplot as plt\n",
    "import torch"
   ]
  }
 ],
 "metadata": {
  "language_info": {
   "name": "python"
  }
 },
 "nbformat": 4,
 "nbformat_minor": 5
}
